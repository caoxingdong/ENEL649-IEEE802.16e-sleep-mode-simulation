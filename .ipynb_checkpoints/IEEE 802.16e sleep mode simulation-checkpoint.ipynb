{
 "cells": [
  {
   "cell_type": "markdown",
   "metadata": {},
   "source": [
    "Python simulation of paper: A Phase-Type Based Markov Chain Model for IEEE 802.16e Sleep Mode and Its Performance Analysis"
   ]
  },
  {
   "cell_type": "code",
   "execution_count": 4,
   "metadata": {},
   "outputs": [],
   "source": [
    "from scipy import integrate\n",
    "import math\n",
    "from collections import deque\n",
    "import random"
   ]
  },
  {
   "cell_type": "code",
   "execution_count": 19,
   "metadata": {},
   "outputs": [],
   "source": [
    "# listening interval (ms)\n",
    "tl = 5\n",
    "\n",
    "# initial sleep window (ms)\n",
    "tb = 40\n",
    "\n",
    "#final sleep window exponent\n",
    "M = 5\n",
    "\n",
    "# service rate (packets/second) \n",
    "mu = 25\n",
    "\n",
    "# buffer size (packets)\n",
    "N = 5\n",
    "\n",
    "# traffic load = lambda / mu\n",
    "trafficLoad = 0.1\n",
    "\n",
    "# arrival rate (packets/second) avoide using lambda because it is a reserved keyword of python\n",
    "lamda = trafficLoad * mu\n",
    "\n",
    "# total time (hour)\n",
    "hour = 50"
   ]
  },
  {
   "cell_type": "code",
   "execution_count": 4,
   "metadata": {},
   "outputs": [
    {
     "name": "stdout",
     "output_type": "stream",
     "text": [
      "988355\n",
      "156.25777992849726\n"
     ]
    }
   ],
   "source": [
    "from scipy import integrate\n",
    "import math\n",
    "from collections import deque\n",
    "import random\n",
    "\n",
    "# listening interval (ms)\n",
    "tl = 5\n",
    "# initial sleep window (ms)\n",
    "tb = 40\n",
    "#final sleep window exponent\n",
    "M = 5\n",
    "# service rate (packets/second) \n",
    "mu = 25\n",
    "# buffer size (packets)\n",
    "N = 10\n",
    "# traffic load = lambda / mu\n",
    "trafficLoad = 0.2\n",
    "# arrival rate (packets/second) avoide using lambda because it is a reserved keyword of python\n",
    "lamda = trafficLoad * mu\n",
    "# total time (hour)\n",
    "hour = 50\n",
    "\n",
    "packetArrival = deque()\n",
    "cur = 0\n",
    "while cur < 1000 * 60 * 60 * hour * 1.1:\n",
    "    nxt = random.expovariate(1/(1/lamda*1000))\n",
    "    cur += nxt\n",
    "    packetArrival.append(cur)\n",
    "print(len(packetArrival))\n",
    "\n",
    "buffer = deque()\n",
    "cnt = 0\n",
    "totalWait = 0\n",
    "sleepState = 0\n",
    "cur = 0\n",
    "while cur < 60 * 60 * 1000 * hour:\n",
    "    cur += tb * (2 ** sleepState) + tl\n",
    "    while packetArrival[0] <= cur:\n",
    "        buffer.append(packetArrival.popleft())\n",
    "        if len(buffer) > N:\n",
    "            buffer.pop()\n",
    "    if len(buffer) == 0:\n",
    "        sleepState = min(sleepState+1, M)\n",
    "    else:\n",
    "        while len(buffer) != 0:\n",
    "            cnt += 1\n",
    "            cur += 1000 / mu\n",
    "            totalWait += cur - buffer.popleft()\n",
    "            while packetArrival[0] <= cur:\n",
    "                buffer.append(packetArrival.popleft())\n",
    "                if len(buffer) > N:\n",
    "                    buffer.pop()\n",
    "        sleepState = 0\n",
    "print(totalWait / cnt)"
   ]
  }
 ],
 "metadata": {
  "kernelspec": {
   "display_name": "Python 3",
   "language": "python",
   "name": "python3"
  },
  "language_info": {
   "codemirror_mode": {
    "name": "ipython",
    "version": 3
   },
   "file_extension": ".py",
   "mimetype": "text/x-python",
   "name": "python",
   "nbconvert_exporter": "python",
   "pygments_lexer": "ipython3",
   "version": "3.7.4"
  }
 },
 "nbformat": 4,
 "nbformat_minor": 2
}
