{
 "cells": [
  {
   "cell_type": "markdown",
   "metadata": {},
   "source": [
    "Python simulation of paper: A Phase-Type Based Markov Chain Model for IEEE 802.16e Sleep Mode and Its Performance Analysis"
   ]
  },
  {
   "cell_type": "code",
   "execution_count": 2,
   "metadata": {},
   "outputs": [],
   "source": [
    "from scipy import integrate\n",
    "import math"
   ]
  },
  {
   "cell_type": "code",
   "execution_count": 7,
   "metadata": {},
   "outputs": [
    {
     "name": "stdout",
     "output_type": "stream",
     "text": [
      "1.0000000000000002 2.8388779836045405e-11\n",
      "3.9999999999999996\n"
     ]
    }
   ],
   "source": [
    "def f(t):\n",
    "    return 0.25 * math.exp(-0.25*t)\n",
    "v, err = integrate.quad(f, 0, float('inf'))\n",
    "print(v, err)\n",
    "\n",
    "def f1(t):\n",
    "    return t*0.25 * math.exp(-0.25*t)\n",
    "v, err = integrate.quad(f1, 0, float('inf'))\n",
    "print(v)"
   ]
  },
  {
   "cell_type": "code",
   "execution_count": null,
   "metadata": {},
   "outputs": [],
   "source": [
    "# listening interval (ms)\n",
    "tl = 5\n",
    "\n",
    "# initial sleep window (ms)\n",
    "tb = 40\n",
    "\n",
    "#final sleep window exponent\n",
    "M = 5\n",
    "\n",
    "# service rate (packets/second) \n",
    "mu = 25\n",
    "\n",
    "# buffer size (packets)\n",
    "N = 5\n",
    "\n",
    "# traffic load = lambda / mu\n",
    "trafficLoad = 0.5\n",
    "\n",
    "# arrival rate (packets/second) avoide using lambda because it is a reserved keyword of python\n",
    "lamda = trafficLoad * mu"
   ]
  },
  {
   "cell_type": "code",
   "execution_count": 19,
   "metadata": {},
   "outputs": [
    {
     "name": "stdout",
     "output_type": "stream",
     "text": [
      "3.9860327525953347\n"
     ]
    }
   ],
   "source": [
    "sm = 0\n",
    "cnt = 90000\n",
    "import random\n",
    "for i in range(cnt):\n",
    "    r = random.expovariate(0.25)\n",
    "#     print(r)\n",
    "    sm += r\n",
    "print(sm / cnt)"
   ]
  },
  {
   "cell_type": "code",
   "execution_count": null,
   "metadata": {},
   "outputs": [],
   "source": []
  },
  {
   "cell_type": "code",
   "execution_count": null,
   "metadata": {},
   "outputs": [],
   "source": []
  }
 ],
 "metadata": {
  "kernelspec": {
   "display_name": "Python 3",
   "language": "python",
   "name": "python3"
  },
  "language_info": {
   "codemirror_mode": {
    "name": "ipython",
    "version": 3
   },
   "file_extension": ".py",
   "mimetype": "text/x-python",
   "name": "python",
   "nbconvert_exporter": "python",
   "pygments_lexer": "ipython3",
   "version": "3.7.4"
  }
 },
 "nbformat": 4,
 "nbformat_minor": 2
}
